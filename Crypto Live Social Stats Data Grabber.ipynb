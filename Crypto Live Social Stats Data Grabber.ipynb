{
 "cells": [
  {
   "cell_type": "markdown",
   "metadata": {},
   "source": [
    "### Import Libraries"
   ]
  },
  {
   "cell_type": "code",
   "execution_count": 1,
   "metadata": {},
   "outputs": [],
   "source": [
    "import cryptocompare\n",
    "import requests\n",
    "import json\n",
    "from pprint import pprint\n",
    "import datetime\n",
    "from queue import Queue\n",
    "import threading\n",
    "import time"
   ]
  },
  {
   "cell_type": "markdown",
   "metadata": {},
   "source": [
    "### Declare Stats of Interest"
   ]
  },
  {
   "cell_type": "code",
   "execution_count": 2,
   "metadata": {},
   "outputs": [],
   "source": [
    "# Use Cryptocompare live social status function to get the data from various social websites\n",
    "# Social Status Keys- 'General', 'CryptoCompare', 'Twitter', 'Reddit', 'Facebook', 'CodeRepository'\n",
    "\n",
    "############## Keys of Interest #################\n",
    "# Reddit- Points, comments_per_day, name, posts_per_day, posts_per_hour, subscribers, name\n",
    "# Twitter- Points, followers, statuses\n",
    "# General- CoinName\n",
    "# Facebook- Points, likes, talking_about\n",
    "# CryptoCompare- Points, Followers, PageViews, PageViewsSplit\n",
    "# CodeRepository- TODO LATER, not of interest yet\n",
    "\n",
    "# Stats of interest for each social site- change to suit your needs\n",
    "redditstats = ['Points', 'comments_per_day', 'name', 'posts_per_day', 'posts_per_hour', 'subscribers']\n",
    "twitterstats = ['Points', 'followers', 'statuses']\n",
    "generalstats = ['CoinName']\n",
    "facebookstats = ['Points', 'likes', 'talking_about']\n",
    "cryptocomparestats = ['Points', 'Followers', 'PageViews', 'PageViewsSplit']\n",
    "\n",
    "# Create a master dictionary for all important stats\n",
    "masterstats = {}\n",
    "masterstats['Reddit'] = redditstats\n",
    "masterstats['Twitter'] = twitterstats\n",
    "masterstats['General'] = generalstats\n",
    "masterstats['Facebook'] = facebookstats\n",
    "masterstats['CryptoCompare'] = cryptocomparestats"
   ]
  },
  {
   "cell_type": "markdown",
   "metadata": {},
   "source": [
    "### Define Function to Grab Live Social Status From CryptoCompare API"
   ]
  },
  {
   "cell_type": "code",
   "execution_count": 3,
   "metadata": {},
   "outputs": [],
   "source": [
    "# Grab cryptocompare's id and use it to grab live social status data\n",
    "def live_social_status(symbol, symbol_id_dict={}):\n",
    "    if not symbol_id_dict:\n",
    "        symbol_id_dict = {\n",
    "            'BTC': 1182,\n",
    "            'ETH': 7605,\n",
    "            'LTC': 3808\n",
    "        }\n",
    "    symbol_id = symbol_id_dict[symbol.upper()]\n",
    "    url = 'https://www.cryptocompare.com/api/data/socialstats/?id={}'\\\n",
    "            .format(symbol_id)\n",
    "    page = requests.get(url)\n",
    "    data = page.json()['Data']\n",
    "    return data"
   ]
  },
  {
   "cell_type": "markdown",
   "metadata": {},
   "source": [
    "### Grab List of All Coins From Cryptocompare and Extract the Symbols\n",
    "---\n",
    "**Note:** symbols only contains 10 elements as of now (spliced from 0 to 10) for prettiness sake. Remove '[0:10]' if you want to include all the coins."
   ]
  },
  {
   "cell_type": "code",
   "execution_count": 4,
   "metadata": {},
   "outputs": [
    {
     "name": "stdout",
     "output_type": "stream",
     "text": [
      "Finished Grabbing List of All Coins\n",
      "Finished Extracing Symbols\n"
     ]
    }
   ],
   "source": [
    "# Raw data from cryptocompare\n",
    "coinlist = cryptocompare.get_coin_list()\n",
    "print('Finished Grabbing List of All Coins')\n",
    "\n",
    "# Dictionary of cryptocompare Ids. Format- {Coin: ID} \n",
    "symbol_id_dict = {}\n",
    "\n",
    "for coin in coinlist.keys():\n",
    "    symbol_id_dict[coin] = coinlist[coin]['Id']\n",
    "\n",
    "symbols = list(symbol_id_dict.keys())[0:10]\n",
    "print('Finished Extracing Symbols')"
   ]
  },
  {
   "cell_type": "markdown",
   "metadata": {},
   "source": [
    "### Define Functions to Create the Master Dictionary\n",
    "---\n",
    "The Master dictionary stores the data in a nested dictinoary format.\n",
    "\n",
    "`{Date:   \n",
    "    {Coins:  \n",
    "        {Reddit: [stats],  \n",
    "        Facebook: [stats], etc...}  \n",
    "    }  \n",
    "}  `\n",
    "\n",
    "get_stats() grabs the necessary data for each coin and stores them in a dictionary\n",
    "\n",
    "To speed up the process, we implement multithreading. Essentially, it allows multiple jobs to be worked on at the same time, instead of one job after another.\n",
    "\n",
    "worker() does most of the work. We can now have multiple threads doing various tasks (namely get_stats())"
   ]
  },
  {
   "cell_type": "code",
   "execution_count": 5,
   "metadata": {},
   "outputs": [],
   "source": [
    "# Function to get stats for particular symbol, master_stats from above. returns dictionary of all stats for coin\n",
    "def get_stats(coinsymbol, master_stats): \n",
    "    time.sleep(1)\n",
    "    coindict = {}\n",
    "    for social_site in master_stats.keys():\n",
    "        \n",
    "        social_dict = {}\n",
    "        for stat in master_stats[social_site]:\n",
    "            try:\n",
    "                social_dict[stat] = live_social_status(coinsymbol, symbol_id_dict)[social_site][stat]\n",
    "            except:\n",
    "                continue\n",
    "        coindict[social_site] = social_dict  \n",
    "    \n",
    "    print('DONE WITH: ' + str(coinsymbol))\n",
    "    print('------------------------')\n",
    "    return coindict\n",
    "\n",
    "# Define a worker function\n",
    "def worker(queue):\n",
    "    queue_full = True\n",
    "    while queue_full:\n",
    "\n",
    "        # Get data off the queue and do work\n",
    "        coin = q.get()        \n",
    "        data = get_stats(coin, masterstats)\n",
    "        with master_lock:\n",
    "            master[coin] = data\n",
    "        q.task_done()"
   ]
  },
  {
   "cell_type": "markdown",
   "metadata": {},
   "source": [
    "### Actually Create the Master Dictionary"
   ]
  },
  {
   "cell_type": "code",
   "execution_count": 6,
   "metadata": {},
   "outputs": [
    {
     "name": "stdout",
     "output_type": "stream",
     "text": [
      "DONE WITH: ZEC\n",
      "------------------------\n",
      "DONE WITH: NXT\n",
      "------------------------\n",
      "DONE WITH: CRAIG\n",
      "------------------------\n",
      "DONE WITH: DOGE\n",
      "------------------------\n",
      "DONE WITH: BTS\n",
      "------------------------\n",
      "DONE WITH: LTC\n",
      "------------------------\n",
      "DONE WITH: YBC\n",
      "------------------------\n",
      "DONE WITH: PRC\n",
      "------------------------\n",
      "DONE WITH: XPY\n",
      "------------------------\n",
      "DONE WITH: XMR\n",
      "------------------------\n",
      "Entire job took: 5.547175884246826\n"
     ]
    }
   ],
   "source": [
    "# MASTER DICTIONARY- all data without date\n",
    "master = {}\n",
    "\n",
    "# LOCK to make sure we dont write multiple entries to the dictionary at the same time\n",
    "master_lock = threading.Lock()\n",
    "\n",
    "# Load up a queue with symbols\n",
    "q = Queue()\n",
    "for coin in symbols:\n",
    "    q.put(coin)\n",
    "    \n",
    "# Start Time   \n",
    "start = time.time()\n",
    "\n",
    "# Create threads\n",
    "thread_count = 10\n",
    "for i in range(thread_count):\n",
    "    t = threading.Thread(target=worker, args = (q,))\n",
    "    t.daemon = True\n",
    "    t.start()\n",
    "    \n",
    "# Wait until thread terminates\n",
    "q.join()\n",
    "print('Entire job took:',time.time() - start)"
   ]
  },
  {
   "cell_type": "markdown",
   "metadata": {},
   "source": [
    "### Save Data to File"
   ]
  },
  {
   "cell_type": "code",
   "execution_count": null,
   "metadata": {},
   "outputs": [],
   "source": [
    "# Save file- if new file, enter: data, newfile=True, and filename. Will create new file and dump data into it\n",
    "# If writing to old file, saves directly to MasterData.txt and adds the new data\n",
    "def save_file(data, newfile=False, filename='DEFAULT.txt'):\n",
    "    if newfile:\n",
    "        with open(filename, 'w') as outfile:\n",
    "            json.dump(data, outfile)\n",
    "    else:\n",
    "        try:\n",
    "            json_data = json.load(open('MasterData.txt'))\n",
    "            json_data[now] = data\n",
    "        except IOError:\n",
    "            print('FILE NOT FOUND')\n",
    "            \n",
    "def load_file(filename):\n",
    "    json_data = json.load(open(filename))\n",
    "    return json_data\n",
    "\n",
    "now = str(datetime.datetime.now().isoformat())\n",
    "save_file(master, newfile=False)"
   ]
  }
 ],
 "metadata": {
  "kernelspec": {
   "display_name": "Python 3",
   "language": "python",
   "name": "python3"
  },
  "language_info": {
   "codemirror_mode": {
    "name": "ipython",
    "version": 3
   },
   "file_extension": ".py",
   "mimetype": "text/x-python",
   "name": "python",
   "nbconvert_exporter": "python",
   "pygments_lexer": "ipython3",
   "version": "3.6.4"
  }
 },
 "nbformat": 4,
 "nbformat_minor": 2
}
